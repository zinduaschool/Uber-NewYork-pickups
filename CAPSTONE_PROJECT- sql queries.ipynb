{
  "nbformat": 4,
  "nbformat_minor": 0,
  "metadata": {
    "colab": {
      "provenance": []
    },
    "kernelspec": {
      "name": "python3",
      "display_name": "Python 3"
    },
    "language_info": {
      "name": "python"
    }
  },
  "cells": [
    {
      "cell_type": "markdown",
      "source": [
        "**Most Popular Pickups Taxi Zones**"
      ],
      "metadata": {
        "id": "UzGITzwz_RuV"
      }
    },
    {
      "cell_type": "markdown",
      "source": [
        "\n",
        "\n",
        "```\n",
        "SELECT\n",
        "    taxi_zone.Location_ID,\n",
        "    taxi_zone.Borough,\n",
        "    taxi_zone.Zone,\n",
        "    COUNT(*) AS PickupCount\n",
        "FROM\n",
        "    jan_june2015 AS uber\n",
        "JOIN\n",
        "    taxi_zone ON uber.location_ID_ = taxi_zone.Location_ID\n",
        "GROUP BY\n",
        "    taxi_zone.Location_ID,\n",
        "    taxi_zone.Borough,\n",
        "    taxi_zone.Zone\n",
        "ORDER BY\n",
        "    PickupCount DESC;\n",
        "```\n",
        "\n"
      ],
      "metadata": {
        "id": "lDiXgDxG_bRq"
      }
    },
    {
      "cell_type": "markdown",
      "source": [
        "**Month with Max Pickups**"
      ],
      "metadata": {
        "id": "JYIp2fLj_jZM"
      }
    },
    {
      "cell_type": "markdown",
      "source": [
        "\n",
        "\n",
        "```\n",
        "SELECT\n",
        "    MONTHNAME(STR_TO_DATE(Pickup_Date, '%c/%d/%Y %k:%i')) AS Month,\n",
        "    COUNT(*) AS PickupCount\n",
        "FROM\n",
        "    jan_june2015\n",
        "GROUP BY\n",
        "    Month\n",
        "ORDER BY\n",
        "    PickupCount DESC;\n",
        "```\n",
        "\n"
      ],
      "metadata": {
        "id": "_mVuazshGKMg"
      }
    },
    {
      "cell_type": "markdown",
      "source": [
        "Number of Trips Per Day"
      ],
      "metadata": {
        "id": "8V-mt3beI5Ze"
      }
    },
    {
      "cell_type": "markdown",
      "source": [
        "\n",
        "\n",
        "```\n",
        "SELECT\n",
        "    DATE(STR_TO_DATE(Pickup_date, '%c/%d/%Y %k:%i:%s')) AS Day,\n",
        "    COUNT(*) AS TripsPerDay\n",
        "FROM\n",
        "  jan_june2015\n",
        "GROUP BY\n",
        "    Day\n",
        "ORDER BY\n",
        "    Day;\n",
        "```\n",
        "\n"
      ],
      "metadata": {
        "id": "VJo50UhpJv9D"
      }
    },
    {
      "cell_type": "markdown",
      "source": [
        "**Base number that is most effective -  In metrics of trips**"
      ],
      "metadata": {
        "id": "SJZ4480MJyUE"
      }
    },
    {
      "cell_type": "markdown",
      "source": [
        "\n",
        "\n",
        "```\n",
        "SELECT\n",
        "    Affiliated_Base_Num,\n",
        "    COUNT(*) AS Trips\n",
        "FROM\n",
        "    jan_june2015\n",
        "GROUP BY\n",
        "    Affiliated_Base_Num\n",
        "ORDER BY\n",
        "    Trips DESC;\n",
        "```\n",
        "\n"
      ],
      "metadata": {
        "id": "5IBybcrJNT6j"
      }
    }
  ]
}